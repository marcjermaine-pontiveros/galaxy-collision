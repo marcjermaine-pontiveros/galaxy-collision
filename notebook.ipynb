{
 "cells": [
  {
   "attachments": {},
   "cell_type": "markdown",
   "metadata": {},
   "source": [
    "# Homework\n",
    "\n",
    "1. Recreate it to make a 10 second video with this parameters:\n",
    "\n",
    "a. from t= 0.000 Myr to t = 450.0 Myr\n",
    "b. N_steps = 10,000\n",
    "c. fps = 100 (fixed based on the anim_two_disks_3d() function)\n",
    "d. N_snapshots = 1000\n",
    "\n",
    "Note: Based on the textbook, the number of steps to get a simulation from t= 0.000 to t=450.0 \n",
    "with N_steps = 10,000 is to calculate the delta_t (time step):\n",
    "\n",
    "$$ \\delta_t = 450 / 10000$$\n",
    "$$ \\delta_t = 0.045$$"
   ]
  },
  {
   "cell_type": "code",
   "execution_count": 2,
   "metadata": {},
   "outputs": [
    {
     "name": "stdout",
     "output_type": "stream",
     "text": [
      "Plane normal: phi = -45.0°, theta = 45.0°\n"
     ]
    }
   ],
   "source": [
    "from galcol import parameters, init_disk, evolve_two_disks\n",
    "    \n",
    "galaxies = {\n",
    "    'intruder' : parameters(\n",
    "        # mass in solar masses\n",
    "        1e10, \n",
    "        # disk radius in kpc\n",
    "        5, \n",
    "        # Cartesian coordinates (x,y,z) of initial position in kpc \n",
    "        (25,-25,-5), \n",
    "        # x-, y-, z-components of initial velocity in km/s\n",
    "        (-75,75,0),\n",
    "        # normal to galactic plane (disk is in xy-plane)\n",
    "        (0,0,1), \n",
    "        # number of rings (each ring will be randomly populated with 1000/5 = 200 stars)\n",
    "        5, \n",
    "        # total number of stars\n",
    "        1000, \n",
    "        # softening factor defines inner edge of disk (in units of disk radius)\n",
    "        0.025),\n",
    "    'target' : parameters(5e10, 10, (-5,5,1), (15,-15,0), (1,-1,2**0.5), 10, 4000, 0.025),\n",
    "}\n",
    "\n",
    "init_disk(galaxies['intruder'])\n",
    "init_disk(galaxies['target'])"
   ]
  },
  {
   "cell_type": "code",
   "execution_count": 3,
   "metadata": {},
   "outputs": [
    {
     "data": {
      "text/plain": [
       "{'mass': <Quantity 1.e+10 solMass>,\n",
       " 'radius': <Quantity 5. kpc>,\n",
       " 'center_pos': <Quantity [ 25., -25.,  -5.] kpc>,\n",
       " 'center_vel': <Quantity [-75.,  75.,   0.] km / s>,\n",
       " 'normal': (0, 0, 1),\n",
       " 'N_rings': 5,\n",
       " 'N_stars': 1000,\n",
       " 'softening': 0.025,\n",
       " 'stars_pos': <Quantity [[ 24.96952446,  25.0250594 ,  24.83120394, ...,  21.12667619,\n",
       "              21.39355124,  29.68738829],\n",
       "            [-24.878091  , -25.25763907, -24.17587312, ..., -27.96597252,\n",
       "             -21.91893147, -25.24985519],\n",
       "            [ -5.        ,  -5.        ,  -5.        , ...,  -5.        ,\n",
       "              -5.        ,  -5.        ]] kpc>,\n",
       " 'stars_vel': <Quantity [[-6.54509523e+02,  3.32121692e+02, -2.97108133e+02, ...,\n",
       "             -1.79886683e+01, -1.36926154e+02, -6.98052823e+01],\n",
       "            [ 7.10043141e+01,  8.16927284e+01,  3.26803353e+01, ...,\n",
       "              3.95746953e-01,  2.66475574e+00,  1.70579878e+02],\n",
       "            [ 0.00000000e+00,  0.00000000e+00,  0.00000000e+00, ...,\n",
       "              0.00000000e+00,  0.00000000e+00,  0.00000000e+00]] km / s>,\n",
       " 'vel_scale': <Quantity 131.16275798 km / s>}"
      ]
     },
     "execution_count": 3,
     "metadata": {},
     "output_type": "execute_result"
    }
   ],
   "source": [
    "galaxies['intruder']"
   ]
  },
  {
   "cell_type": "code",
   "execution_count": 4,
   "metadata": {},
   "outputs": [
    {
     "data": {
      "text/plain": [
       "{'mass': <Quantity 5.e+10 solMass>,\n",
       " 'radius': <Quantity 10. kpc>,\n",
       " 'center_pos': <Quantity [-5.,  5.,  1.] kpc>,\n",
       " 'center_vel': <Quantity [ 15., -15.,   0.] km / s>,\n",
       " 'normal': (1, -1, 1.4142135623730951),\n",
       " 'N_rings': 10,\n",
       " 'N_stars': 4000,\n",
       " 'softening': 0.025,\n",
       " 'stars_pos': <Quantity [[-4.59475366, -4.70724102, -5.07576742, ..., -2.76119146,\n",
       "              0.52851472,  2.25976463],\n",
       "            [ 4.45195375,  4.95580947,  4.77435015, ..., 13.06574325,\n",
       "             12.12553749, 11.33484644],\n",
       "            [ 0.32592034,  0.76174071,  0.89401712, ...,  5.12026505,\n",
       "              2.12926563,  0.34598408]] kpc>,\n",
       " 'stars_vel': <Quantity [[ 377.89502083,  369.07551496,  693.87633766, ...,\n",
       "             -111.30168184,  -79.74148818,  -49.07453411],\n",
       "            [ 286.13010451,  617.33123358, -155.78632405, ...,\n",
       "              -22.65372876,   41.70553125,   69.4522914 ],\n",
       "            [ -43.67439117,  196.75650554, -579.58902638, ...,\n",
       "               83.8967722 ,  107.08921443,  105.02432551]] km / s>,\n",
       " 'vel_scale': <Quantity 207.3865297 km / s>}"
      ]
     },
     "execution_count": 4,
     "metadata": {},
     "output_type": "execute_result"
    }
   ],
   "source": [
    "galaxies['target']"
   ]
  },
  {
   "cell_type": "code",
   "execution_count": 5,
   "metadata": {},
   "outputs": [
    {
     "name": "stdout",
     "output_type": "stream",
     "text": [
      "Solving equations of motion for two galaxies (Leapfrog integration)\n",
      "100 % (stopped at t = 450.0 Myr)\n"
     ]
    }
   ],
   "source": [
    "import astropy.units as unit\n",
    "\n",
    "t, coords_data = evolve_two_disks(galaxies['target'], galaxies['intruder'], N_steps = 10_000, N_snapshots= 1_000, time_step=0.045*unit.Myr)"
   ]
  },
  {
   "cell_type": "code",
   "execution_count": 6,
   "metadata": {},
   "outputs": [],
   "source": [
    "\n",
    "from galcol import anim_two_disks_3d\n",
    "\n",
    "# anim_two_disks_3d(coords_data, galaxies['target']['N_stars'], name = 'two_disks_3d_anim' )\n"
   ]
  },
  {
   "attachments": {},
   "cell_type": "markdown",
   "metadata": {},
   "source": [
    "4.12 The effect of the collision of two galaxies depends mainly on their relative velocity and the impact parameter $b$, which is defined as the perpendicular distance\n",
    "between the path of the intruder galaxy from infinity and the center of the target galaxy. If the separation of the two galaxies at time $t = 0$ is large enough, it can be\n",
    "assumed that the intruder is nearly unaffected by the gravity of the target and moves along a straight line through its center in the direction of its initial velocity vector.\n",
    "The impact parameter is then given by the normal distance of this line to the center of the target.\n",
    "\n",
    "1. Calculate b in kpc for the scenario discussed in this section. Vary the impact parameter by changing the initial position of the intruder. Compute the resulting\n",
    "evolution of the two disks and interpret the results."
   ]
  },
  {
   "cell_type": "code",
   "execution_count": 7,
   "metadata": {},
   "outputs": [
    {
     "name": "stdout",
     "output_type": "stream",
     "text": [
      "The impact parameter b is 6.0 kpc\n"
     ]
    }
   ],
   "source": [
    "import numpy as np\n",
    "from astropy import units as u\n",
    "\n",
    "def calculate_b(intruder_position, intruder_velocity, target_position):\n",
    "    # Convert the input tuples to Quantity objects with appropriate units\n",
    "    intruder_position = np.array(intruder_position) * u.kpc\n",
    "    intruder_velocity = np.array(intruder_velocity) * u.km / u.s\n",
    "    target_position = np.array(target_position) * u.kpc\n",
    "\n",
    "    # Calculate the relative position vector\n",
    "    relative_position = intruder_position - target_position\n",
    "\n",
    "    # Calculate the cross product of the relative position and the velocity\n",
    "    cross_product = np.cross(relative_position, intruder_velocity)\n",
    "\n",
    "    # Calculate the norm of the velocity\n",
    "    velocity_norm = np.linalg.norm(intruder_velocity)\n",
    "\n",
    "    # Calculate b using the formula: || (r0 - rt) x v || / ||v||\n",
    "    b = np.linalg.norm(cross_product) / velocity_norm\n",
    "\n",
    "    return b.to(u.kpc)\n",
    "\n",
    "intruder_position = galaxies['intruder']['center_pos']\n",
    "intruder_velocity = galaxies['intruder']['center_vel']\n",
    "target_position = galaxies['target']['center_pos']\n",
    "\n",
    "b = calculate_b(intruder_position, intruder_velocity, target_position)\n",
    "print(f\"The impact parameter b is {b}\")\n"
   ]
  },
  {
   "cell_type": "code",
   "execution_count": 8,
   "metadata": {},
   "outputs": [],
   "source": [
    "# Number of scenarios to consider\n",
    "num_scenarios = 10\n",
    "\n",
    "# Initialize the arrays\n",
    "intruder_position_arr = np.empty((num_scenarios, 3)) * u.kpc\n",
    "intruder_velocity_arr = np.empty((num_scenarios, 3)) * u.km / u.s\n",
    "target_position_arr = np.empty((num_scenarios, 3)) * u.kpc\n",
    "\n",
    "# Set the initial positions and velocities\n",
    "intruder_position_arr[0] = np.array(intruder_position) * u.kpc\n",
    "intruder_velocity_arr[0] = np.array(intruder_velocity) * u.km / u.s\n",
    "target_position_arr[0] = np.array(target_position) * u.kpc\n",
    "\n",
    "# Populate the arrays\n",
    "for i in range(1, num_scenarios):\n",
    "    # Move the intruder 5 kpc further in the x-direction\n",
    "    intruder_position_arr[i] = intruder_position_arr[i-1] + np.array([5, 0, 0]) * u.kpc\n",
    "    # Keep the velocities the same\n",
    "    intruder_velocity_arr[i] = intruder_velocity_arr[0]\n",
    "    # Keep the target position the same\n",
    "    target_position_arr[i] = target_position_arr[0]\n",
    "\n",
    "# Calculate the impact parameters\n",
    "b_values = np.empty(num_scenarios) * u.kpc\n",
    "\n",
    "for i in range(num_scenarios):\n",
    "    b_values[i] = calculate_b(intruder_position_arr[i], intruder_velocity_arr[i], target_position_arr[i])\n",
    "\n",
    "# # Print the results\n",
    "# for i in range(num_scenarios):\n",
    "#     print(f\"For scenario {i+1}, the impact parameter b is {b_values[i]}\")"
   ]
  },
  {
   "cell_type": "code",
   "execution_count": 9,
   "metadata": {},
   "outputs": [
    {
     "data": {
      "image/png": "[encoded data removed]",
      "text/plain": [
       "<Figure size 1000x600 with 1 Axes>"
      ]
     },
     "metadata": {},
     "output_type": "display_data"
    }
   ],
   "source": [
    "import matplotlib.pyplot as plt\n",
    "\n",
    "# Generate an array of distances added for the x-axis\n",
    "distances_added = np.arange(0, num_scenarios * 5, 5)\n",
    "\n",
    "# Convert b_values to kpc for plotting\n",
    "b_values_kpc = b_values.to(u.kpc).value\n",
    "\n",
    "# Create the plot\n",
    "plt.figure(figsize=(10, 6))\n",
    "plt.plot(distances_added, b_values_kpc, marker='o')\n",
    "\n",
    "# Add labels and title\n",
    "plt.xlabel('Distance Added (kpc)')\n",
    "plt.ylabel('Impact Parameter (kpc)')\n",
    "plt.title('Impact Parameter vs Distance Added to Intruder Position')\n",
    "\n",
    "# Display the plot\n",
    "plt.grid(True)\n",
    "plt.show()\n"
   ]
  },
  {
   "cell_type": "code",
   "execution_count": 10,
   "metadata": {},
   "outputs": [],
   "source": [
    "def produce_simulations(intruder_position_arr, num_scenarios):\n",
    "    for i in range(num_scenarios):\n",
    "        galaxies = {\n",
    "        'intruder' : parameters(\n",
    "            # mass in solar masses\n",
    "            1e10, \n",
    "            # disk radius in kpc\n",
    "            5, \n",
    "            # Cartesian coordinates (x,y,z) of initial position in kpc \n",
    "            # (25,-25,-5), \n",
    "            intruder_position_arr[i].value,\n",
    "            # x-, y-, z-components of initial velocity in km/s\n",
    "            (-75,75,0),\n",
    "            # normal to galactic plane (disk is in xy-plane)\n",
    "            (0,0,1), \n",
    "            # number of rings (each ring will be randomly populated with 1000/5 = 200 stars)\n",
    "            5, \n",
    "            # total number of stars\n",
    "            1000, \n",
    "            # softening factor defines inner edge of disk (in units of disk radius)\n",
    "            0.025),\n",
    "        'target' : parameters(5e10, 10, (-5,5,1), (15,-15,0), (1,-1,2**0.5), 10, 4000, 0.025),\n",
    "        } \n",
    "        init_disk(galaxies['intruder'])\n",
    "        init_disk(galaxies['target'])\n",
    "\n",
    "        t, coords_data = evolve_two_disks(galaxies['target'], galaxies['intruder'], N_steps = 10_000, N_snapshots= 1_000, time_step=0.045*unit.Myr)\n",
    "        anim_two_disks_3d(coords_data, galaxies['target']['N_stars'], name = f'intruder_pos/anim_{i}')\n",
    "\n",
    "        \n",
    "        \n",
    "    "
   ]
  },
  {
   "cell_type": "code",
   "execution_count": 11,
   "metadata": {},
   "outputs": [],
   "source": [
    "# produce_simulations(intruder_position_arr, num_scenarios)"
   ]
  },
  {
   "attachments": {},
   "cell_type": "markdown",
   "metadata": {},
   "source": [
    "# 4.14\n",
    "\n",
    "The head-on collision of two disks can result in a Cartwheel-like galaxy. The name refers to the large outer ring which gives the galaxy the appearance of a wagon wheel. In this case, the intruder moves in z-direction toward the target and its normal is aligned with the direction of motion. The plane of the target disk is parallel to the intruder’s disk. Vary the relative velocity and the impact parameter. Can you produce a post-collision galaxy of a similar shape as the Carthwheel Galaxy?"
   ]
  },
  {
   "attachments": {},
   "cell_type": "markdown",
   "metadata": {},
   "source": [
    "## Notes\n",
    "\n",
    "- A Cartwheel Galaxy is a result of a head-on collision between two galaxies: one smaller \"intruder\" galaxy passes through a larger \"target\" galaxy. The intruder galaxy can be of any type, but it's typically smaller in mass than the target galaxy. The target galaxy, which becomes the Cartwheel Galaxy, is usually a disk galaxy with a lot of gas and dust, which are needed to form the ring and spokes structure.\n",
    "- Initial Condition and Position: The intruder galaxy needs to pass through the center of the target galaxy nearly head-on. This means an impact parameter close to zero, where the impact parameter is perpendicular distance from the path of the intruder to the center of target.\n",
    "- Relative Velocities: The intruder galaxy should be moving fast enough to go through the target galaxy without being captured, but not so fast that the target galaxy doesn't have time to react to the collision. The exact velocity would depend on the masses of the two galaxies and the distance between them.\n",
    "- Masses: The intruder galaxy should be smaller in mass than the target galaxy but still massive enough to significantly disturb the target's gravitational field.\n",
    "- Disk Orientation: The disks of the two galaxies should be parallel or nearly parallel at the time of the collision. The angle θ, which is the angle between the planes of the two galaxies, should be close to 0°."
   ]
  },
  {
   "cell_type": "code",
   "execution_count": 12,
   "metadata": {},
   "outputs": [],
   "source": [
    "cartwheel_galaxies = {\n",
    "    'intruder' : parameters(\n",
    "        # mass in solar masses\n",
    "        1e10, \n",
    "        # disk radius in kpc\n",
    "        5, \n",
    "        # Cartesian coordinates (x,y,z) of initial position in kpc \n",
    "        (0,-50,0), \n",
    "        # x-, y-, z-components of initial velocity in km/s\n",
    "        (0,100,0),\n",
    "        # normal to galactic plane (disk is in xy-plane)\n",
    "        (0,0,1), \n",
    "        # number of rings (each ring will be randomly populated with 1000/5 = 200 stars)\n",
    "        5, \n",
    "        # total number of stars\n",
    "        1000, \n",
    "        # softening factor defines inner edge of disk (in units of disk radius)\n",
    "        0.025),\n",
    "    'target' : parameters(\n",
    "        # mass in solar masses\n",
    "        5e10, \n",
    "        # disk radius in kpc\n",
    "        10, \n",
    "        # Cartesian coordinates (x,y,z) of initial position in kpc \n",
    "        (0,0,0), \n",
    "        # x-, y-, z-components of initial velocity in km/s\n",
    "        (0,0,0),\n",
    "        # normal to galactic plane (disk is in xy-plane)\n",
    "        (0,0,1), \n",
    "        # number of rings (each ring will be randomly populated with 4000/10 = 400 stars)\n",
    "        10, \n",
    "        # total number of stars\n",
    "        4000, \n",
    "        # softening factor defines inner edge of disk (in units of disk radius)\n",
    "        0.025),\n",
    "}\n"
   ]
  },
  {
   "cell_type": "code",
   "execution_count": 13,
   "metadata": {},
   "outputs": [],
   "source": [
    "init_disk(cartwheel_galaxies['intruder'])\n",
    "init_disk(cartwheel_galaxies['target'])"
   ]
  },
  {
   "cell_type": "code",
   "execution_count": 16,
   "metadata": {},
   "outputs": [
    {
     "name": "stdout",
     "output_type": "stream",
     "text": [
      "Solving equations of motion for two galaxies (Leapfrog integration)\n",
      "100 % (stopped at t = 500.0 Myr)\n"
     ]
    }
   ],
   "source": [
    "\n",
    "t, cart_coords_data = evolve_two_disks(cartwheel_galaxies['target'], cartwheel_galaxies['intruder'], N_steps = 10_000, N_snapshots= 1_000, time_step=0.05*unit.Myr)\n",
    "\n"
   ]
  },
  {
   "cell_type": "code",
   "execution_count": 20,
   "metadata": {},
   "outputs": [],
   "source": [
    "# anim_two_disks_3d(cart_coords_data, cartwheel_galaxies['target']['N_stars'], name = 'cartwheel_3d_anim' )"
   ]
  },
  {
   "cell_type": "code",
   "execution_count": 15,
   "metadata": {},
   "outputs": [
    {
     "name": "stdout",
     "output_type": "stream",
     "text": [
      "The impact parameter b is 0.0 kpc\n"
     ]
    }
   ],
   "source": [
    "intruder_position = cartwheel_galaxies['intruder']['center_pos']\n",
    "intruder_velocity = cartwheel_galaxies['intruder']['center_vel']\n",
    "target_position = cartwheel_galaxies['target']['center_pos']\n",
    "\n",
    "cart_b = calculate_b(intruder_position, intruder_velocity, target_position)\n",
    "print(f\"The impact parameter b is {cart_b}\")\n"
   ]
  }
 ],
 "metadata": {
  "kernelspec": {
   "display_name": "Python 3",
   "language": "python",
   "name": "python3"
  },
  "language_info": {
   "codemirror_mode": {
    "name": "ipython",
    "version": 3
   },
   "file_extension": ".py",
   "mimetype": "text/x-python",
   "name": "python",
   "nbconvert_exporter": "python",
   "pygments_lexer": "ipython3",
   "version": "3.10.4"
  },
  "orig_nbformat": 4
 },
 "nbformat": 4,
 "nbformat_minor": 2
}
